{
 "cells": [
  {
   "cell_type": "code",
   "execution_count": 10,
   "metadata": {},
   "outputs": [],
   "source": [
    "import pandas as pd\n",
    "import numpy as np\n",
    "import torch\n",
    "import os"
   ]
  },
  {
   "cell_type": "code",
   "execution_count": 11,
   "metadata": {},
   "outputs": [],
   "source": [
    "df = pd.read_csv(r'data\\stock_benchmark\\hsi_index_spec_s.csv')"
   ]
  },
  {
   "cell_type": "code",
   "execution_count": 12,
   "metadata": {},
   "outputs": [
    {
     "data": {
      "text/html": [
       "<div>\n",
       "<style scoped>\n",
       "    .dataframe tbody tr th:only-of-type {\n",
       "        vertical-align: middle;\n",
       "    }\n",
       "\n",
       "    .dataframe tbody tr th {\n",
       "        vertical-align: top;\n",
       "    }\n",
       "\n",
       "    .dataframe thead th {\n",
       "        text-align: right;\n",
       "    }\n",
       "</style>\n",
       "<table border=\"1\" class=\"dataframe\">\n",
       "  <thead>\n",
       "    <tr style=\"text-align: right;\">\n",
       "      <th></th>\n",
       "      <th>open</th>\n",
       "      <th>high</th>\n",
       "      <th>low</th>\n",
       "      <th>close</th>\n",
       "      <th>volume</th>\n",
       "    </tr>\n",
       "  </thead>\n",
       "  <tbody>\n",
       "    <tr>\n",
       "      <th>count</th>\n",
       "      <td>2707.000000</td>\n",
       "      <td>2707.000000</td>\n",
       "      <td>2707.000000</td>\n",
       "      <td>2707.000000</td>\n",
       "      <td>2.707000e+03</td>\n",
       "    </tr>\n",
       "    <tr>\n",
       "      <th>mean</th>\n",
       "      <td>23910.097705</td>\n",
       "      <td>24034.406036</td>\n",
       "      <td>23753.410011</td>\n",
       "      <td>23896.340725</td>\n",
       "      <td>1.772384e+09</td>\n",
       "    </tr>\n",
       "    <tr>\n",
       "      <th>std</th>\n",
       "      <td>3118.348797</td>\n",
       "      <td>3128.112298</td>\n",
       "      <td>3100.165063</td>\n",
       "      <td>3114.664035</td>\n",
       "      <td>6.521270e+08</td>\n",
       "    </tr>\n",
       "    <tr>\n",
       "      <th>min</th>\n",
       "      <td>16731.580078</td>\n",
       "      <td>16840.910156</td>\n",
       "      <td>16170.349609</td>\n",
       "      <td>16250.269531</td>\n",
       "      <td>4.839841e+08</td>\n",
       "    </tr>\n",
       "    <tr>\n",
       "      <th>25%</th>\n",
       "      <td>21696.040039</td>\n",
       "      <td>21811.600586</td>\n",
       "      <td>21544.075195</td>\n",
       "      <td>21696.794922</td>\n",
       "      <td>1.360726e+09</td>\n",
       "    </tr>\n",
       "    <tr>\n",
       "      <th>50%</th>\n",
       "      <td>23362.660156</td>\n",
       "      <td>23477.490234</td>\n",
       "      <td>23213.710938</td>\n",
       "      <td>23336.519531</td>\n",
       "      <td>1.641040e+09</td>\n",
       "    </tr>\n",
       "    <tr>\n",
       "      <th>75%</th>\n",
       "      <td>26094.839844</td>\n",
       "      <td>26300.174805</td>\n",
       "      <td>25939.870117</td>\n",
       "      <td>26129.554688</td>\n",
       "      <td>2.004116e+09</td>\n",
       "    </tr>\n",
       "    <tr>\n",
       "      <th>max</th>\n",
       "      <td>33335.480469</td>\n",
       "      <td>33484.078125</td>\n",
       "      <td>32897.039062</td>\n",
       "      <td>33154.121094</td>\n",
       "      <td>9.527773e+09</td>\n",
       "    </tr>\n",
       "  </tbody>\n",
       "</table>\n",
       "</div>"
      ],
      "text/plain": [
       "               open          high           low         close        volume\n",
       "count   2707.000000   2707.000000   2707.000000   2707.000000  2.707000e+03\n",
       "mean   23910.097705  24034.406036  23753.410011  23896.340725  1.772384e+09\n",
       "std     3118.348797   3128.112298   3100.165063   3114.664035  6.521270e+08\n",
       "min    16731.580078  16840.910156  16170.349609  16250.269531  4.839841e+08\n",
       "25%    21696.040039  21811.600586  21544.075195  21696.794922  1.360726e+09\n",
       "50%    23362.660156  23477.490234  23213.710938  23336.519531  1.641040e+09\n",
       "75%    26094.839844  26300.174805  25939.870117  26129.554688  2.004116e+09\n",
       "max    33335.480469  33484.078125  32897.039062  33154.121094  9.527773e+09"
      ]
     },
     "execution_count": 12,
     "metadata": {},
     "output_type": "execute_result"
    }
   ],
   "source": [
    "df.describe()"
   ]
  },
  {
   "cell_type": "code",
   "execution_count": 7,
   "metadata": {},
   "outputs": [
    {
     "name": "stdout",
     "output_type": "stream",
     "text": [
      "['AAPL', 'ABB', 'ABBV', 'AEP', 'AMGN', 'AMZN', 'BA', 'BAC', 'BBL', 'BCH', 'BHP', 'BP', 'BRK-A', 'BSAC', 'BUD', 'C', 'CAT', 'CELG', 'CHL', 'CHTR', 'CMCSA', 'CODI', 'CSCO', 'CVX', 'D', 'DHR', 'DIS', 'DUK', 'EXC', 'FB', 'GD', 'GE', 'GOOG', 'HD', 'HON', 'HRG', 'HSBC', 'IEP', 'INTC', 'JNJ', 'JPM', 'KO', 'LMT', 'MA', 'MCD', 'MDT', 'MMM', 'MO', 'MRK', 'MSFT', 'NEE', 'NGG', 'NVS', 'ORCL', 'PCG', 'PCLN', 'PEP', 'PFE', 'PG', 'PICO', 'PM', 'PPL', 'PTR', 'RDS-B', 'REX', 'SLB', 'SNP', 'SNY', 'SO', 'SPLP', 'SRE', 'T', 'TM', 'TOT', 'TSM', 'UL', 'UN', 'UNH', 'UPS', 'UTX', 'V', 'VZ', 'WFC', 'WMT', 'XOM']\n"
     ]
    }
   ],
   "source": [
    "folder = r'.\\data\\ACL_18_EXT\\2016'\n",
    "\n",
    "ct = 0\n",
    "\n",
    "l = []\n",
    "\n",
    "for file in os.listdir(folder):\n",
    "    # f_path = os.path.join(folder, file)\n",
    "    # df = pd.read_csv(f_path)\n",
    "    # print(df.describe())\n",
    "    l.append(file.split('.')[0])\n",
    "    ct += 1\n",
    "\n",
    "print(l)\n"
   ]
  },
  {
   "cell_type": "code",
   "execution_count": null,
   "metadata": {},
   "outputs": [],
   "source": []
  }
 ],
 "metadata": {
  "kernelspec": {
   "display_name": "Pytorch_1_11_20230812",
   "language": "python",
   "name": "python3"
  },
  "language_info": {
   "codemirror_mode": {
    "name": "ipython",
    "version": 3
   },
   "file_extension": ".py",
   "mimetype": "text/x-python",
   "name": "python",
   "nbconvert_exporter": "python",
   "pygments_lexer": "ipython3",
   "version": "3.8.5"
  }
 },
 "nbformat": 4,
 "nbformat_minor": 2
}
